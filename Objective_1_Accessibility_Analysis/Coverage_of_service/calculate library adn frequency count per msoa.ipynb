{
 "cells": [
  {
   "cell_type": "code",
   "execution_count": 1,
   "metadata": {},
   "outputs": [
    {
     "name": "stderr",
     "output_type": "stream",
     "text": [
      "Skipping field keywords: unsupported OGR type: 5\n"
     ]
    }
   ],
   "source": [
    "import pandas as pd\n",
    "import geopandas as gpd\n",
    "\n",
    "\n",
    "geo_data = gpd.read_file('/Users/victoriachen/Documents/My Baby Thesis/2nd_try/2_coverage/library frequency and msoa popden joined by lcoation.geojson')"
   ]
  },
  {
   "cell_type": "code",
   "execution_count": 2,
   "metadata": {},
   "outputs": [],
   "source": [
    "# Sum the counts of different library names per MSOA\n",
    "\n",
    "library_counts_per_msoa = geo_data.groupby(['MSOA11CD', 'name']).size().reset_index(name='library_count')\n",
    "\n",
    "library_sum_per_msoa = library_counts_per_msoa.groupby('MSOA11CD').size().reset_index(name='library_name_sum')"
   ]
  },
  {
   "cell_type": "code",
   "execution_count": 3,
   "metadata": {},
   "outputs": [],
   "source": [
    "filtered_geo_data = geo_data[(geo_data['keyword_frequency'].notnull()) & (geo_data['keyword_frequency'] != 'Null') & (geo_data['keyword_frequency'] != '0')]\n",
    "\n",
    "filtered_library_counts_per_msoa = filtered_geo_data.groupby(['MSOA11CD', 'name']).size().reset_index(name='library_count')\n",
    "\n",
    "# Sum the counts of  library that their frequency is not NULL or 0 (the libraries that has a value) per MSOA\n",
    "filtered_library_sum_per_msoa = filtered_library_counts_per_msoa.groupby('MSOA11CD').size().reset_index(name='filtered_library_name_sum')"
   ]
  },
  {
   "cell_type": "code",
   "execution_count": 4,
   "metadata": {},
   "outputs": [],
   "source": [
    "geo_data['keyword_frequency'] = pd.to_numeric(geo_data['keyword_frequency'], errors='coerce')\n",
    "\n",
    "# Group by MSOA and calculate the sum of keyword_frequency for each MSOA\n",
    "keyword_frequency_sum_per_msoa = geo_data.groupby('MSOA11CD')['keyword_frequency'].sum().reset_index(name='keyword_frequency_sum')"
   ]
  },
  {
   "cell_type": "code",
   "execution_count": 5,
   "metadata": {},
   "outputs": [],
   "source": [
    "merged_data = geo_data.merge(library_sum_per_msoa, on='MSOA11CD', how='left')\n",
    "\n",
    "# Then, merge the filtered library name sum\n",
    "merged_data = merged_data.merge(filtered_library_sum_per_msoa, on='MSOA11CD', how='left')\n",
    "\n",
    "# Finally, merge the sum of keyword_frequency\n",
    "merged_data = merged_data.merge(keyword_frequency_sum_per_msoa, on='MSOA11CD', how='left')"
   ]
  },
  {
   "cell_type": "code",
   "execution_count": 7,
   "metadata": {},
   "outputs": [
    {
     "name": "stdout",
     "output_type": "stream",
     "text": [
      "<bound method NDFrame.head of                                name  \\\n",
      "0                       Thames View   \n",
      "1                       Thames View   \n",
      "2                       Thames View   \n",
      "3                       Thames View   \n",
      "4                       Thames View   \n",
      "...                             ...   \n",
      "7132  The Wiener Holocaust Library    \n",
      "7133  The Wiener Holocaust Library    \n",
      "7134  The Wiener Holocaust Library    \n",
      "7135  The Wiener Holocaust Library    \n",
      "7136  The Wiener Holocaust Library    \n",
      "\n",
      "                                                    url  \\\n",
      "0     https://www.lbbd.gov.uk/libraries-and-local-hi...   \n",
      "1     https://www.lbbd.gov.uk/libraries-and-local-hi...   \n",
      "2     https://www.lbbd.gov.uk/libraries-and-local-hi...   \n",
      "3     https://www.lbbd.gov.uk/libraries-and-local-hi...   \n",
      "4     https://www.lbbd.gov.uk/libraries-and-local-hi...   \n",
      "...                                                 ...   \n",
      "7132                http://www.wienerlibrary.co.uk/home   \n",
      "7133                http://www.wienerlibrary.co.uk/home   \n",
      "7134                http://www.wienerlibrary.co.uk/home   \n",
      "7135                http://www.wienerlibrary.co.uk/home   \n",
      "7136                http://www.wienerlibrary.co.uk/home   \n",
      "\n",
      "                                  website  \\\n",
      "0                                    Null   \n",
      "1                                    Null   \n",
      "2                                    Null   \n",
      "3                                    Null   \n",
      "4                                    Null   \n",
      "...                                   ...   \n",
      "7132  http://www.wienerlibrary.co.uk/home   \n",
      "7133  http://www.wienerlibrary.co.uk/home   \n",
      "7134  http://www.wienerlibrary.co.uk/home   \n",
      "7135  http://www.wienerlibrary.co.uk/home   \n",
      "7136  http://www.wienerlibrary.co.uk/home   \n",
      "\n",
      "                                              frequency  keyword_frequency  \\\n",
      "0                                                  Null                NaN   \n",
      "1                                                  Null                NaN   \n",
      "2                                                  Null                NaN   \n",
      "3                                                  Null                NaN   \n",
      "4                                                  Null                NaN   \n",
      "...                                                 ...                ...   \n",
      "7132  [ 0, 0, 1, 0, 0, 0, 0, 0, 0, 1, 0, 0, 0, 0, 0,...                4.0   \n",
      "7133  [ 0, 0, 1, 0, 0, 0, 0, 0, 0, 1, 0, 0, 0, 0, 0,...                4.0   \n",
      "7134  [ 0, 0, 1, 0, 0, 0, 0, 0, 0, 1, 0, 0, 0, 0, 0,...                4.0   \n",
      "7135  [ 0, 0, 1, 0, 0, 0, 0, 0, 0, 1, 0, 0, 0, 0, 0,...                4.0   \n",
      "7136  [ 0, 0, 1, 0, 0, 0, 0, 0, 0, 1, 0, 0, 0, 0, 0,...                4.0   \n",
      "\n",
      "       latitude  longitude      easting     northing   MSOA11CD  POPDEN  \\\n",
      "0     51.527355   0.106155  546198.0775  183040.1829  E02000012    76.0   \n",
      "1     51.527355   0.106155  546198.0775  183040.1829  E02000013    64.4   \n",
      "2     51.527355   0.106155  546198.0775  183040.1829  E02000016    86.6   \n",
      "3     51.527355   0.106155  546198.0775  183040.1829  E02000017    97.0   \n",
      "4     51.527355   0.106155  546198.0775  183040.1829  E02000018    65.5   \n",
      "...         ...        ...          ...          ...        ...     ...   \n",
      "7132  51.521097  -0.126403  530086.6789  181905.7303  E02000970    82.9   \n",
      "7133  51.521097  -0.126403  530086.6789  181905.7303  E02000972    64.5   \n",
      "7134  51.521097  -0.126403  530086.6789  181905.7303  E02000977    29.8   \n",
      "7135  51.521097  -0.126403  530086.6789  181905.7303  E02000979    58.1   \n",
      "7136  51.521097  -0.126403  530086.6789  181905.7303  E02006801    70.8   \n",
      "\n",
      "                           geometry  library_name_sum  \\\n",
      "0     POINT (546198.078 183040.183)                 6   \n",
      "1     POINT (546198.078 183040.183)                 5   \n",
      "2     POINT (546198.078 183040.183)                 7   \n",
      "3     POINT (546198.078 183040.183)                 6   \n",
      "4     POINT (546198.078 183040.183)                 5   \n",
      "...                             ...               ...   \n",
      "7132   POINT (530086.679 181905.73)                17   \n",
      "7133   POINT (530086.679 181905.73)                18   \n",
      "7134   POINT (530086.679 181905.73)                26   \n",
      "7135   POINT (530086.679 181905.73)                20   \n",
      "7136   POINT (530086.679 181905.73)                18   \n",
      "\n",
      "      filtered_library_name_sum  keyword_frequency_sum  \n",
      "0                           5.0                   11.0  \n",
      "1                           2.0                    6.0  \n",
      "2                           6.0                   10.0  \n",
      "3                           5.0                    9.0  \n",
      "4                           2.0                    5.0  \n",
      "...                         ...                    ...  \n",
      "7132                       12.0                   46.0  \n",
      "7133                       11.0                   96.0  \n",
      "7134                       18.0                  125.0  \n",
      "7135                       13.0                   95.0  \n",
      "7136                       12.0                   99.0  \n",
      "\n",
      "[7137 rows x 15 columns]>\n"
     ]
    }
   ],
   "source": [
    "print(merged_data.head)"
   ]
  }
 ],
 "metadata": {
  "kernelspec": {
   "display_name": "Python 3",
   "language": "python",
   "name": "python3"
  },
  "language_info": {
   "codemirror_mode": {
    "name": "ipython",
    "version": 3
   },
   "file_extension": ".py",
   "mimetype": "text/x-python",
   "name": "python",
   "nbconvert_exporter": "python",
   "pygments_lexer": "ipython3",
   "version": "3.9.6"
  }
 },
 "nbformat": 4,
 "nbformat_minor": 2
}
