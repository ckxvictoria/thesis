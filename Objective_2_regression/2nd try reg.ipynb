{
 "cells": [
  {
   "cell_type": "markdown",
   "metadata": {},
   "source": [
    "<div style=\"float:left\">\n",
    "            <h1 style=\"width:450px\">Libraries Kids and Single Parents Unemployment</h1>\n",
    "            <h2 style=\"width:450px\">Correlation and linear regression</h2>\n",
    "</div>\n",
    "<div style=\"float:right\"><img width=\"100\" src=\"https://github.com/jreades/i2p/raw/master/img/casa_logo.jpg\" /></div>"
   ]
  },
  {
   "cell_type": "markdown",
   "metadata": {},
   "source": [
    "## Part 2: Calculating correlation coefficients\n",
    "\n",
    "### Libraries"
   ]
  },
  {
   "cell_type": "code",
   "execution_count": 183,
   "metadata": {},
   "outputs": [],
   "source": [
    "%matplotlib inline\n",
    "\n",
    "import matplotlib.pyplot as plt\n",
    "import numpy as np\n",
    "import pandas as pd\n",
    "import geopandas as gpd\n",
    "\n",
    "import statsmodels.formula.api as smf\n",
    "import statsmodels"
   ]
  },
  {
   "cell_type": "code",
   "execution_count": 184,
   "metadata": {},
   "outputs": [
    {
     "name": "stdout",
     "output_type": "stream",
     "text": [
      "pandas version: 2.2.2\n",
      "statsmodels version: 0.14.2\n"
     ]
    }
   ],
   "source": [
    "print(\"pandas version: {}\".format(pd.__version__))\n",
    "print(\"statsmodels version: {}\".format(statsmodels.__version__))"
   ]
  },
  {
   "cell_type": "markdown",
   "metadata": {},
   "source": [
    "### Downloading data (office environment)"
   ]
  },
  {
   "cell_type": "code",
   "execution_count": 185,
   "metadata": {},
   "outputs": [],
   "source": [
    "\n",
    "df = pd.read_csv(\"/Users/victoriachen/Documents/My Baby Thesis/2nd_try/5_regression/Merged_Data_with_Income_and_POPDEN.csv\")\n",
    "combine = pd.read_csv(\"/Users/victoriachen/Documents/My Baby Thesis/2nd_try/3_nearest_lib_unchange/centroid to lib/CNL_output_data.csv\")\n",
    "\n",
    "df = df.merge(combine, on='MSOA11CD', how='left')"
   ]
  },
  {
   "cell_type": "code",
   "execution_count": 186,
   "metadata": {},
   "outputs": [
    {
     "data": {
      "text/html": [
       "<div>\n",
       "<style scoped>\n",
       "    .dataframe tbody tr th:only-of-type {\n",
       "        vertical-align: middle;\n",
       "    }\n",
       "\n",
       "    .dataframe tbody tr th {\n",
       "        vertical-align: top;\n",
       "    }\n",
       "\n",
       "    .dataframe thead th {\n",
       "        text-align: right;\n",
       "    }\n",
       "</style>\n",
       "<table border=\"1\" class=\"dataframe\">\n",
       "  <thead>\n",
       "    <tr style=\"text-align: right;\">\n",
       "      <th></th>\n",
       "      <th>Unnamed: 0</th>\n",
       "      <th>MSOA11CD</th>\n",
       "      <th>count_sin</th>\n",
       "      <th>sum</th>\n",
       "      <th>count_sdep</th>\n",
       "      <th>sdep/sum</th>\n",
       "      <th>sdep/sin</th>\n",
       "      <th>library_name_sum</th>\n",
       "      <th>filtered_library_name_sum</th>\n",
       "      <th>keyword_frequency_sum</th>\n",
       "      <th>Total annual income</th>\n",
       "      <th>POPDEN</th>\n",
       "      <th>Nearest_Library_ID</th>\n",
       "      <th>Distance_to_Library</th>\n",
       "    </tr>\n",
       "  </thead>\n",
       "  <tbody>\n",
       "    <tr>\n",
       "      <th>0</th>\n",
       "      <td>0</td>\n",
       "      <td>E02000001</td>\n",
       "      <td>90.0</td>\n",
       "      <td>4909.0</td>\n",
       "      <td>10.0</td>\n",
       "      <td>0.203707</td>\n",
       "      <td>11.111111</td>\n",
       "      <td>26.0</td>\n",
       "      <td>15.0</td>\n",
       "      <td>126.0</td>\n",
       "      <td>101800.0</td>\n",
       "      <td>25.5</td>\n",
       "      <td>71</td>\n",
       "      <td>101.659404</td>\n",
       "    </tr>\n",
       "    <tr>\n",
       "      <th>1</th>\n",
       "      <td>1</td>\n",
       "      <td>E02000002</td>\n",
       "      <td>436.0</td>\n",
       "      <td>2873.0</td>\n",
       "      <td>77.0</td>\n",
       "      <td>2.680125</td>\n",
       "      <td>17.660550</td>\n",
       "      <td>4.0</td>\n",
       "      <td>2.0</td>\n",
       "      <td>5.0</td>\n",
       "      <td>43600.0</td>\n",
       "      <td>31.3</td>\n",
       "      <td>5</td>\n",
       "      <td>399.090090</td>\n",
       "    </tr>\n",
       "    <tr>\n",
       "      <th>2</th>\n",
       "      <td>2</td>\n",
       "      <td>E02000003</td>\n",
       "      <td>414.0</td>\n",
       "      <td>3932.0</td>\n",
       "      <td>53.0</td>\n",
       "      <td>1.347915</td>\n",
       "      <td>12.801932</td>\n",
       "      <td>7.0</td>\n",
       "      <td>4.0</td>\n",
       "      <td>11.0</td>\n",
       "      <td>50900.0</td>\n",
       "      <td>46.9</td>\n",
       "      <td>4</td>\n",
       "      <td>404.618876</td>\n",
       "    </tr>\n",
       "    <tr>\n",
       "      <th>3</th>\n",
       "      <td>3</td>\n",
       "      <td>E02000004</td>\n",
       "      <td>178.0</td>\n",
       "      <td>2309.0</td>\n",
       "      <td>25.0</td>\n",
       "      <td>1.082720</td>\n",
       "      <td>14.044944</td>\n",
       "      <td>6.0</td>\n",
       "      <td>1.0</td>\n",
       "      <td>1.0</td>\n",
       "      <td>52000.0</td>\n",
       "      <td>24.8</td>\n",
       "      <td>164</td>\n",
       "      <td>1659.689546</td>\n",
       "    </tr>\n",
       "    <tr>\n",
       "      <th>4</th>\n",
       "      <td>4</td>\n",
       "      <td>E02000005</td>\n",
       "      <td>451.0</td>\n",
       "      <td>3629.0</td>\n",
       "      <td>85.0</td>\n",
       "      <td>2.342243</td>\n",
       "      <td>18.847007</td>\n",
       "      <td>6.0</td>\n",
       "      <td>2.0</td>\n",
       "      <td>8.0</td>\n",
       "      <td>48100.0</td>\n",
       "      <td>72.1</td>\n",
       "      <td>3</td>\n",
       "      <td>661.123499</td>\n",
       "    </tr>\n",
       "  </tbody>\n",
       "</table>\n",
       "</div>"
      ],
      "text/plain": [
       "   Unnamed: 0   MSOA11CD  count_sin     sum  count_sdep  sdep/sum   sdep/sin  \\\n",
       "0           0  E02000001       90.0  4909.0        10.0  0.203707  11.111111   \n",
       "1           1  E02000002      436.0  2873.0        77.0  2.680125  17.660550   \n",
       "2           2  E02000003      414.0  3932.0        53.0  1.347915  12.801932   \n",
       "3           3  E02000004      178.0  2309.0        25.0  1.082720  14.044944   \n",
       "4           4  E02000005      451.0  3629.0        85.0  2.342243  18.847007   \n",
       "\n",
       "   library_name_sum  filtered_library_name_sum  keyword_frequency_sum  \\\n",
       "0              26.0                       15.0                  126.0   \n",
       "1               4.0                        2.0                    5.0   \n",
       "2               7.0                        4.0                   11.0   \n",
       "3               6.0                        1.0                    1.0   \n",
       "4               6.0                        2.0                    8.0   \n",
       "\n",
       "   Total annual income  POPDEN  Nearest_Library_ID  Distance_to_Library  \n",
       "0             101800.0    25.5                  71           101.659404  \n",
       "1              43600.0    31.3                   5           399.090090  \n",
       "2              50900.0    46.9                   4           404.618876  \n",
       "3              52000.0    24.8                 164          1659.689546  \n",
       "4              48100.0    72.1                   3           661.123499  "
      ]
     },
     "execution_count": 186,
     "metadata": {},
     "output_type": "execute_result"
    }
   ],
   "source": [
    "df.head()"
   ]
  },
  {
   "cell_type": "code",
   "execution_count": 187,
   "metadata": {},
   "outputs": [
    {
     "data": {
      "text/plain": [
       "(963, 14)"
      ]
     },
     "execution_count": 187,
     "metadata": {},
     "output_type": "execute_result"
    }
   ],
   "source": [
    "# print the shape of the DataFrame\n",
    "df.shape"
   ]
  },
  {
   "cell_type": "code",
   "execution_count": 188,
   "metadata": {},
   "outputs": [
    {
     "data": {
      "text/plain": [
       "Index(['Unnamed: 0', 'MSOA11CD', 'count_sin', 'sum', 'count_sdep', 'sdep/sum',\n",
       "       'sdep/sin', 'library_name_sum', 'filtered_library_name_sum',\n",
       "       'keyword_frequency_sum', 'Total annual income', 'POPDEN',\n",
       "       'Nearest_Library_ID', 'Distance_to_Library'],\n",
       "      dtype='object')"
      ]
     },
     "execution_count": 188,
     "metadata": {},
     "output_type": "execute_result"
    }
   ],
   "source": [
    "# print the column names\n",
    "df.columns"
   ]
  },
  {
   "cell_type": "code",
   "execution_count": 189,
   "metadata": {},
   "outputs": [
    {
     "data": {
      "text/html": [
       "<div>\n",
       "<style scoped>\n",
       "    .dataframe tbody tr th:only-of-type {\n",
       "        vertical-align: middle;\n",
       "    }\n",
       "\n",
       "    .dataframe tbody tr th {\n",
       "        vertical-align: top;\n",
       "    }\n",
       "\n",
       "    .dataframe thead th {\n",
       "        text-align: right;\n",
       "    }\n",
       "</style>\n",
       "<table border=\"1\" class=\"dataframe\">\n",
       "  <thead>\n",
       "    <tr style=\"text-align: right;\">\n",
       "      <th></th>\n",
       "      <th>count_sin</th>\n",
       "      <th>sum</th>\n",
       "      <th>count_sdep</th>\n",
       "      <th>sdep/sum</th>\n",
       "      <th>sdep/sin</th>\n",
       "      <th>library_name_sum</th>\n",
       "      <th>filtered_library_name_sum</th>\n",
       "      <th>keyword_frequency_sum</th>\n",
       "      <th>Total annual income</th>\n",
       "      <th>POPDEN</th>\n",
       "      <th>Nearest_Library_ID</th>\n",
       "      <th>Distance_to_Library</th>\n",
       "    </tr>\n",
       "  </thead>\n",
       "  <tbody>\n",
       "    <tr>\n",
       "      <th>0</th>\n",
       "      <td>90.0</td>\n",
       "      <td>4909.0</td>\n",
       "      <td>10.0</td>\n",
       "      <td>0.203707</td>\n",
       "      <td>11.111111</td>\n",
       "      <td>26.0</td>\n",
       "      <td>15.0</td>\n",
       "      <td>126.0</td>\n",
       "      <td>101800.0</td>\n",
       "      <td>25.5</td>\n",
       "      <td>71</td>\n",
       "      <td>101.659404</td>\n",
       "    </tr>\n",
       "    <tr>\n",
       "      <th>1</th>\n",
       "      <td>436.0</td>\n",
       "      <td>2873.0</td>\n",
       "      <td>77.0</td>\n",
       "      <td>2.680125</td>\n",
       "      <td>17.660550</td>\n",
       "      <td>4.0</td>\n",
       "      <td>2.0</td>\n",
       "      <td>5.0</td>\n",
       "      <td>43600.0</td>\n",
       "      <td>31.3</td>\n",
       "      <td>5</td>\n",
       "      <td>399.090090</td>\n",
       "    </tr>\n",
       "    <tr>\n",
       "      <th>2</th>\n",
       "      <td>414.0</td>\n",
       "      <td>3932.0</td>\n",
       "      <td>53.0</td>\n",
       "      <td>1.347915</td>\n",
       "      <td>12.801932</td>\n",
       "      <td>7.0</td>\n",
       "      <td>4.0</td>\n",
       "      <td>11.0</td>\n",
       "      <td>50900.0</td>\n",
       "      <td>46.9</td>\n",
       "      <td>4</td>\n",
       "      <td>404.618876</td>\n",
       "    </tr>\n",
       "    <tr>\n",
       "      <th>3</th>\n",
       "      <td>178.0</td>\n",
       "      <td>2309.0</td>\n",
       "      <td>25.0</td>\n",
       "      <td>1.082720</td>\n",
       "      <td>14.044944</td>\n",
       "      <td>6.0</td>\n",
       "      <td>1.0</td>\n",
       "      <td>1.0</td>\n",
       "      <td>52000.0</td>\n",
       "      <td>24.8</td>\n",
       "      <td>164</td>\n",
       "      <td>1659.689546</td>\n",
       "    </tr>\n",
       "    <tr>\n",
       "      <th>4</th>\n",
       "      <td>451.0</td>\n",
       "      <td>3629.0</td>\n",
       "      <td>85.0</td>\n",
       "      <td>2.342243</td>\n",
       "      <td>18.847007</td>\n",
       "      <td>6.0</td>\n",
       "      <td>2.0</td>\n",
       "      <td>8.0</td>\n",
       "      <td>48100.0</td>\n",
       "      <td>72.1</td>\n",
       "      <td>3</td>\n",
       "      <td>661.123499</td>\n",
       "    </tr>\n",
       "  </tbody>\n",
       "</table>\n",
       "</div>"
      ],
      "text/plain": [
       "   count_sin     sum  count_sdep  sdep/sum   sdep/sin  library_name_sum  \\\n",
       "0       90.0  4909.0        10.0  0.203707  11.111111              26.0   \n",
       "1      436.0  2873.0        77.0  2.680125  17.660550               4.0   \n",
       "2      414.0  3932.0        53.0  1.347915  12.801932               7.0   \n",
       "3      178.0  2309.0        25.0  1.082720  14.044944               6.0   \n",
       "4      451.0  3629.0        85.0  2.342243  18.847007               6.0   \n",
       "\n",
       "   filtered_library_name_sum  keyword_frequency_sum  Total annual income  \\\n",
       "0                       15.0                  126.0             101800.0   \n",
       "1                        2.0                    5.0              43600.0   \n",
       "2                        4.0                   11.0              50900.0   \n",
       "3                        1.0                    1.0              52000.0   \n",
       "4                        2.0                    8.0              48100.0   \n",
       "\n",
       "   POPDEN  Nearest_Library_ID  Distance_to_Library  \n",
       "0    25.5                  71           101.659404  \n",
       "1    31.3                   5           399.090090  \n",
       "2    46.9                   4           404.618876  \n",
       "3    24.8                 164          1659.689546  \n",
       "4    72.1                   3           661.123499  "
      ]
     },
     "execution_count": 189,
     "metadata": {},
     "output_type": "execute_result"
    }
   ],
   "source": [
    " df = df.drop(columns=['MSOA11CD', 'Unnamed: 0' ])\n",
    "\n",
    " df.head()"
   ]
  },
  {
   "cell_type": "code",
   "execution_count": 190,
   "metadata": {},
   "outputs": [
    {
     "name": "stdout",
     "output_type": "stream",
     "text": [
      "Index(['count_sin', 'sum', 'sdep', 'sdep_sum', 'sdep_sin', 'lib', 'kid',\n",
      "       'frequency', 'income', 'POPDEN', 'Nearest_Library_ID', 'distance'],\n",
      "      dtype='object')\n"
     ]
    }
   ],
   "source": [
    "df = df.rename(columns={\n",
    "    'library_name_sum': 'lib',\n",
    "    'filtered_library_name_sum': 'kid', \n",
    "    'keyword_frequency_sum': 'frequency',\n",
    "    'count_sdep': 'sdep',\n",
    "    'sdep/sum': 'sdep_sum',\n",
    "    'sdep/sin': 'sdep_sin', \n",
    "    'Total annual income': 'income',\n",
    "    'Distance_to_Library': 'distance'\n",
    "})\n",
    "\n",
    "print(df.columns)"
   ]
  },
  {
   "cell_type": "code",
   "execution_count": 191,
   "metadata": {},
   "outputs": [
    {
     "name": "stdout",
     "output_type": "stream",
     "text": [
      "     count_sin     sum   sdep  sdep_sum   sdep_sin   lib   kid  frequency  \\\n",
      "0         90.0  4909.0   10.0  0.203707  11.111111  26.0  15.0      126.0   \n",
      "1        436.0  2873.0   77.0  2.680125  17.660550   4.0   2.0        5.0   \n",
      "2        414.0  3932.0   53.0  1.347915  12.801932   7.0   4.0       11.0   \n",
      "3        178.0  2309.0   25.0  1.082720  14.044944   6.0   1.0        1.0   \n",
      "4        451.0  3629.0   85.0  2.342243  18.847007   6.0   2.0        8.0   \n",
      "..         ...     ...    ...       ...        ...   ...   ...        ...   \n",
      "958      217.0  4189.0   16.0  0.381953   7.373272   7.0   6.0       24.0   \n",
      "959      364.0  5087.0   55.0  1.081187  15.109890  10.0   2.0        9.0   \n",
      "960      521.0  5267.0  105.0  1.993545  20.153551   8.0   1.0        2.0   \n",
      "961      260.0  4227.0   50.0  1.182872  19.230769   9.0   2.0        4.0   \n",
      "962      253.0  4137.0   34.0  0.821852  13.438735  12.0   3.0       12.0   \n",
      "\n",
      "       income  POPDEN  Nearest_Library_ID     distance  \n",
      "0    101800.0    25.5                  71   101.659404  \n",
      "1     43600.0    31.3                   5   399.090090  \n",
      "2     50900.0    46.9                   4   404.618876  \n",
      "3     52000.0    24.8                 164  1659.689546  \n",
      "4     48100.0    72.1                   3   661.123499  \n",
      "..        ...     ...                 ...          ...  \n",
      "958   60800.0    53.1                 270   531.911808  \n",
      "959   51600.0    33.0                 122  1210.376482  \n",
      "960   52400.0   136.0                 243   495.943401  \n",
      "961   55300.0    75.6                 126   173.613065  \n",
      "962   52000.0    46.1                 124   328.815175  \n",
      "\n",
      "[963 rows x 12 columns]\n"
     ]
    }
   ],
   "source": [
    "df = df.dropna()\n",
    "print(df)"
   ]
  },
  {
   "cell_type": "markdown",
   "metadata": {},
   "source": [
    "## build regression models"
   ]
  },
  {
   "cell_type": "code",
   "execution_count": 169,
   "metadata": {},
   "outputs": [
    {
     "name": "stdout",
     "output_type": "stream",
     "text": [
      "                            OLS Regression Results                            \n",
      "==============================================================================\n",
      "Dep. Variable:               sdep_sin   R-squared:                       0.272\n",
      "Model:                            OLS   Adj. R-squared:                  0.269\n",
      "Method:                 Least Squares   F-statistic:                     119.2\n",
      "Date:                Wed, 04 Sep 2024   Prob (F-statistic):           1.36e-65\n",
      "Time:                        05:04:00   Log-Likelihood:                -2477.0\n",
      "No. Observations:                 963   AIC:                             4962.\n",
      "Df Residuals:                     959   BIC:                             4982.\n",
      "Df Model:                           3                                         \n",
      "Covariance Type:            nonrobust                                         \n",
      "==============================================================================\n",
      "                 coef    std err          t      P>|t|      [0.025      0.975]\n",
      "------------------------------------------------------------------------------\n",
      "Intercept     20.5073      0.590     34.735      0.000      19.349      21.666\n",
      "frequency      0.0416      0.006      6.993      0.000       0.030       0.053\n",
      "income        -0.0001   9.35e-06    -14.847      0.000      -0.000      -0.000\n",
      "POPDEN         0.0157      0.002      6.927      0.000       0.011       0.020\n",
      "==============================================================================\n",
      "Omnibus:                       32.142   Durbin-Watson:                   1.874\n",
      "Prob(Omnibus):                  0.000   Jarque-Bera (JB):               42.108\n",
      "Skew:                           0.346   Prob(JB):                     7.18e-10\n",
      "Kurtosis:                       3.755   Cond. No.                     3.45e+05\n",
      "==============================================================================\n",
      "\n",
      "Notes:\n",
      "[1] Standard Errors assume that the covariance matrix of the errors is correctly specified.\n",
      "[2] The condition number is large, 3.45e+05. This might indicate that there are\n",
      "strong multicollinearity or other numerical problems.\n"
     ]
    }
   ],
   "source": [
    "reg_sdep_sum_fre = smf.ols(formula='sdep_sum ~ frequency + income + POPDEN',data=df).fit()\n",
    "\n",
    "# And this gives a big summary of the results:\n",
    "print(reg_sdep_sin_fre.summary())"
   ]
  },
  {
   "cell_type": "code",
   "execution_count": 173,
   "metadata": {},
   "outputs": [
    {
     "name": "stdout",
     "output_type": "stream",
     "text": [
      "                            OLS Regression Results                            \n",
      "==============================================================================\n",
      "Dep. Variable:               sdep_sum   R-squared:                       0.877\n",
      "Model:                            OLS   Adj. R-squared:                  0.876\n",
      "Method:                 Least Squares   F-statistic:                     1704.\n",
      "Date:                Wed, 04 Sep 2024   Prob (F-statistic):               0.00\n",
      "Time:                        08:26:11   Log-Likelihood:                 72.628\n",
      "No. Observations:                 963   AIC:                            -135.3\n",
      "Df Residuals:                     958   BIC:                            -110.9\n",
      "Df Model:                           4                                         \n",
      "Covariance Type:            nonrobust                                         \n",
      "==============================================================================\n",
      "                 coef    std err          t      P>|t|      [0.025      0.975]\n",
      "------------------------------------------------------------------------------\n",
      "Intercept      1.0471      0.060     17.381      0.000       0.929       1.165\n",
      "frequency     -0.0010      0.000     -2.243      0.025      -0.002      -0.000\n",
      "sdep           0.0211      0.000     53.720      0.000       0.020       0.022\n",
      "POPDEN        -0.0001      0.000     -0.613      0.540      -0.000       0.000\n",
      "income     -1.226e-05   8.46e-07    -14.486      0.000   -1.39e-05   -1.06e-05\n",
      "==============================================================================\n",
      "Omnibus:                      124.860   Durbin-Watson:                   1.859\n",
      "Prob(Omnibus):                  0.000   Jarque-Bera (JB):              425.738\n",
      "Skew:                           0.605   Prob(JB):                     3.57e-93\n",
      "Kurtosis:                       6.024   Cond. No.                     4.96e+05\n",
      "==============================================================================\n",
      "\n",
      "Notes:\n",
      "[1] Standard Errors assume that the covariance matrix of the errors is correctly specified.\n",
      "[2] The condition number is large, 4.96e+05. This might indicate that there are\n",
      "strong multicollinearity or other numerical problems.\n"
     ]
    }
   ],
   "source": [
    "reg_sdep_sum_fre = smf.ols(formula='sdep_sum ~ frequency + sdep + POPDEN + income',data=df).fit()\n",
    "\n",
    "# And this gives a big summary of the results:\n",
    "print(reg_sdep_sum_fre.summary())"
   ]
  },
  {
   "cell_type": "code",
   "execution_count": 174,
   "metadata": {},
   "outputs": [
    {
     "name": "stdout",
     "output_type": "stream",
     "text": [
      "                            OLS Regression Results                            \n",
      "==============================================================================\n",
      "Dep. Variable:               sdep_sum   R-squared:                       0.876\n",
      "Model:                            OLS   Adj. R-squared:                  0.876\n",
      "Method:                 Least Squares   F-statistic:                     1695.\n",
      "Date:                Wed, 04 Sep 2024   Prob (F-statistic):               0.00\n",
      "Time:                        08:40:31   Log-Likelihood:                 70.562\n",
      "No. Observations:                 963   AIC:                            -131.1\n",
      "Df Residuals:                     958   BIC:                            -106.8\n",
      "Df Model:                           4                                         \n",
      "Covariance Type:            nonrobust                                         \n",
      "==============================================================================\n",
      "                 coef    std err          t      P>|t|      [0.025      0.975]\n",
      "------------------------------------------------------------------------------\n",
      "Intercept      1.0617      0.060     17.684      0.000       0.944       1.180\n",
      "lib           -0.0022      0.002     -0.952      0.341      -0.007       0.002\n",
      "sdep           0.0210      0.000     53.083      0.000       0.020       0.022\n",
      "POPDEN        -0.0001      0.000     -0.865      0.387      -0.000       0.000\n",
      "income     -1.232e-05   8.75e-07    -14.080      0.000    -1.4e-05   -1.06e-05\n",
      "==============================================================================\n",
      "Omnibus:                      124.954   Durbin-Watson:                   1.839\n",
      "Prob(Omnibus):                  0.000   Jarque-Bera (JB):              416.295\n",
      "Skew:                           0.613   Prob(JB):                     4.00e-91\n",
      "Kurtosis:                       5.979   Cond. No.                     4.94e+05\n",
      "==============================================================================\n",
      "\n",
      "Notes:\n",
      "[1] Standard Errors assume that the covariance matrix of the errors is correctly specified.\n",
      "[2] The condition number is large, 4.94e+05. This might indicate that there are\n",
      "strong multicollinearity or other numerical problems.\n"
     ]
    }
   ],
   "source": [
    "reg_sdep_sum_lib = smf.ols(formula='sdep_sum ~ lib + sdep + POPDEN + income',data=df).fit()\n",
    "\n",
    "# And this gives a big summary of the results:\n",
    "print(reg_sdep_sum_lib.summary())"
   ]
  },
  {
   "cell_type": "code",
   "execution_count": 176,
   "metadata": {},
   "outputs": [
    {
     "name": "stdout",
     "output_type": "stream",
     "text": [
      "                            OLS Regression Results                            \n",
      "==============================================================================\n",
      "Dep. Variable:               sdep_sum   R-squared:                       0.512\n",
      "Model:                            OLS   Adj. R-squared:                  0.511\n",
      "Method:                 Least Squares   F-statistic:                     335.6\n",
      "Date:                Wed, 04 Sep 2024   Prob (F-statistic):          5.98e-149\n",
      "Time:                        08:59:52   Log-Likelihood:                -589.83\n",
      "No. Observations:                 963   AIC:                             1188.\n",
      "Df Residuals:                     959   BIC:                             1207.\n",
      "Df Model:                           3                                         \n",
      "Covariance Type:            nonrobust                                         \n",
      "==============================================================================\n",
      "                 coef    std err          t      P>|t|      [0.025      0.975]\n",
      "------------------------------------------------------------------------------\n",
      "Intercept      3.3513      0.083     40.439      0.000       3.189       3.514\n",
      "lib            0.0198      0.004      4.454      0.000       0.011       0.029\n",
      "POPDEN         0.0011      0.000      3.361      0.001       0.000       0.002\n",
      "income      -4.16e-05   1.35e-06    -30.869      0.000   -4.42e-05    -3.9e-05\n",
      "==============================================================================\n",
      "Omnibus:                      101.044   Durbin-Watson:                   1.580\n",
      "Prob(Omnibus):                  0.000   Jarque-Bera (JB):              166.597\n",
      "Skew:                           0.714   Prob(JB):                     6.67e-37\n",
      "Kurtosis:                       4.454   Cond. No.                     3.43e+05\n",
      "==============================================================================\n",
      "\n",
      "Notes:\n",
      "[1] Standard Errors assume that the covariance matrix of the errors is correctly specified.\n",
      "[2] The condition number is large, 3.43e+05. This might indicate that there are\n",
      "strong multicollinearity or other numerical problems.\n"
     ]
    }
   ],
   "source": [
    "reg_sdep_sum_lib = smf.ols(formula='sdep_sum ~ lib + POPDEN + income',data=df).fit()\n",
    "\n",
    "# And this gives a big summary of the results:\n",
    "print(reg_sdep_sum_lib.summary())"
   ]
  },
  {
   "cell_type": "code",
   "execution_count": 175,
   "metadata": {},
   "outputs": [
    {
     "name": "stdout",
     "output_type": "stream",
     "text": [
      "                            OLS Regression Results                            \n",
      "==============================================================================\n",
      "Dep. Variable:               sdep_sum   R-squared:                       0.876\n",
      "Model:                            OLS   Adj. R-squared:                  0.876\n",
      "Method:                 Least Squares   F-statistic:                     1697.\n",
      "Date:                Wed, 04 Sep 2024   Prob (F-statistic):               0.00\n",
      "Time:                        08:41:21   Log-Likelihood:                 70.861\n",
      "No. Observations:                 963   AIC:                            -131.7\n",
      "Df Residuals:                     958   BIC:                            -107.4\n",
      "Df Model:                           4                                         \n",
      "Covariance Type:            nonrobust                                         \n",
      "==============================================================================\n",
      "                 coef    std err          t      P>|t|      [0.025      0.975]\n",
      "------------------------------------------------------------------------------\n",
      "Intercept      1.0596      0.060     17.648      0.000       0.942       1.177\n",
      "kid           -0.0038      0.003     -1.226      0.221      -0.010       0.002\n",
      "sdep           0.0210      0.000     53.712      0.000       0.020       0.022\n",
      "POPDEN        -0.0001      0.000     -0.685      0.493      -0.000       0.000\n",
      "income      -1.24e-05   8.47e-07    -14.644      0.000   -1.41e-05   -1.07e-05\n",
      "==============================================================================\n",
      "Omnibus:                      127.937   Durbin-Watson:                   1.840\n",
      "Prob(Omnibus):                  0.000   Jarque-Bera (JB):              428.857\n",
      "Skew:                           0.627   Prob(JB):                     7.50e-94\n",
      "Kurtosis:                       6.019   Cond. No.                     4.94e+05\n",
      "==============================================================================\n",
      "\n",
      "Notes:\n",
      "[1] Standard Errors assume that the covariance matrix of the errors is correctly specified.\n",
      "[2] The condition number is large, 4.94e+05. This might indicate that there are\n",
      "strong multicollinearity or other numerical problems.\n"
     ]
    }
   ],
   "source": [
    "reg_sdep_sum_kid = smf.ols(formula='sdep_sum ~ kid + sdep + POPDEN + income',data=df).fit()\n",
    "\n",
    "# And this gives a big summary of the results:\n",
    "print(reg_sdep_sum_kid.summary())"
   ]
  },
  {
   "cell_type": "code",
   "execution_count": 177,
   "metadata": {},
   "outputs": [
    {
     "name": "stdout",
     "output_type": "stream",
     "text": [
      "                            OLS Regression Results                            \n",
      "==============================================================================\n",
      "Dep. Variable:               sdep_sum   R-squared:                       0.504\n",
      "Model:                            OLS   Adj. R-squared:                  0.502\n",
      "Method:                 Least Squares   F-statistic:                     324.6\n",
      "Date:                Wed, 04 Sep 2024   Prob (F-statistic):          2.06e-145\n",
      "Time:                        09:00:20   Log-Likelihood:                -598.02\n",
      "No. Observations:                 963   AIC:                             1204.\n",
      "Df Residuals:                     959   BIC:                             1224.\n",
      "Df Model:                           3                                         \n",
      "Covariance Type:            nonrobust                                         \n",
      "==============================================================================\n",
      "                 coef    std err          t      P>|t|      [0.025      0.975]\n",
      "------------------------------------------------------------------------------\n",
      "Intercept      3.3696      0.084     40.180      0.000       3.205       3.534\n",
      "kid            0.0114      0.006      1.827      0.068      -0.001       0.024\n",
      "POPDEN         0.0015      0.000      4.352      0.000       0.001       0.002\n",
      "income     -4.052e-05   1.33e-06    -30.400      0.000   -4.31e-05   -3.79e-05\n",
      "==============================================================================\n",
      "Omnibus:                       97.055   Durbin-Watson:                   1.562\n",
      "Prob(Omnibus):                  0.000   Jarque-Bera (JB):              153.014\n",
      "Skew:                           0.708   Prob(JB):                     5.94e-34\n",
      "Kurtosis:                       4.345   Cond. No.                     3.44e+05\n",
      "==============================================================================\n",
      "\n",
      "Notes:\n",
      "[1] Standard Errors assume that the covariance matrix of the errors is correctly specified.\n",
      "[2] The condition number is large, 3.44e+05. This might indicate that there are\n",
      "strong multicollinearity or other numerical problems.\n"
     ]
    }
   ],
   "source": [
    "reg_sdep_sum_kid = smf.ols(formula='sdep_sum ~ kid + POPDEN + income',data=df).fit()\n",
    "\n",
    "# And this gives a big summary of the results:\n",
    "print(reg_sdep_sum_kid.summary())"
   ]
  },
  {
   "cell_type": "code",
   "execution_count": 194,
   "metadata": {},
   "outputs": [
    {
     "name": "stdout",
     "output_type": "stream",
     "text": [
      "                            OLS Regression Results                            \n",
      "==============================================================================\n",
      "Dep. Variable:               sdep_sum   R-squared:                       0.876\n",
      "Model:                            OLS   Adj. R-squared:                  0.876\n",
      "Method:                 Least Squares   F-statistic:                     1696.\n",
      "Date:                Wed, 04 Sep 2024   Prob (F-statistic):               0.00\n",
      "Time:                        12:32:02   Log-Likelihood:                 70.805\n",
      "No. Observations:                 963   AIC:                            -131.6\n",
      "Df Residuals:                     958   BIC:                            -107.3\n",
      "Df Model:                           4                                         \n",
      "Covariance Type:            nonrobust                                         \n",
      "==============================================================================\n",
      "                 coef    std err          t      P>|t|      [0.025      0.975]\n",
      "------------------------------------------------------------------------------\n",
      "Intercept      1.0392      0.065     16.089      0.000       0.912       1.166\n",
      "distance    2.028e-05   1.72e-05      1.179      0.238   -1.35e-05     5.4e-05\n",
      "sdep           0.0210      0.000     53.788      0.000       0.020       0.022\n",
      "POPDEN        -0.0001      0.000     -0.759      0.448      -0.000       0.000\n",
      "income     -1.248e-05    8.4e-07    -14.856      0.000   -1.41e-05   -1.08e-05\n",
      "==============================================================================\n",
      "Omnibus:                      127.335   Durbin-Watson:                   1.833\n",
      "Prob(Omnibus):                  0.000   Jarque-Bera (JB):              430.123\n",
      "Skew:                           0.621   Prob(JB):                     3.98e-94\n",
      "Kurtosis:                       6.029   Cond. No.                     5.31e+05\n",
      "==============================================================================\n",
      "\n",
      "Notes:\n",
      "[1] Standard Errors assume that the covariance matrix of the errors is correctly specified.\n",
      "[2] The condition number is large, 5.31e+05. This might indicate that there are\n",
      "strong multicollinearity or other numerical problems.\n"
     ]
    }
   ],
   "source": [
    "reg_sdep_sum_distance = smf.ols(formula='sdep_sum ~ distance + sdep + POPDEN + income',data=df).fit()\n",
    "\n",
    "print(reg_sdep_sum_distance.summary())"
   ]
  },
  {
   "cell_type": "code",
   "execution_count": 24,
   "metadata": {},
   "outputs": [
    {
     "name": "stdout",
     "output_type": "stream",
     "text": [
      "                            OLS Regression Results                            \n",
      "==============================================================================\n",
      "Dep. Variable:                   sdep   R-squared:                       0.666\n",
      "Model:                            OLS   Adj. R-squared:                  0.665\n",
      "Method:                 Least Squares   F-statistic:                     1819.\n",
      "Date:                Sat, 31 Aug 2024   Prob (F-statistic):          1.39e-219\n",
      "Time:                        00:50:36   Log-Likelihood:                -3699.0\n",
      "No. Observations:                 916   AIC:                             7402.\n",
      "Df Residuals:                     914   BIC:                             7412.\n",
      "Df Model:                           1                                         \n",
      "Covariance Type:            nonrobust                                         \n",
      "==============================================================================\n",
      "                 coef    std err          t      P>|t|      [0.025      0.975]\n",
      "------------------------------------------------------------------------------\n",
      "Intercept    -14.3393      1.386    -10.346      0.000     -17.059     -11.619\n",
      "dep            0.1142      0.003     42.646      0.000       0.109       0.119\n",
      "==============================================================================\n",
      "Omnibus:                       92.758   Durbin-Watson:                   1.497\n",
      "Prob(Omnibus):                  0.000   Jarque-Bera (JB):              187.787\n",
      "Skew:                           0.621   Prob(JB):                     1.67e-41\n",
      "Kurtosis:                       4.838   Cond. No.                     1.58e+03\n",
      "==============================================================================\n",
      "\n",
      "Notes:\n",
      "[1] Standard Errors assume that the covariance matrix of the errors is correctly specified.\n",
      "[2] The condition number is large, 1.58e+03. This might indicate that there are\n",
      "strong multicollinearity or other numerical problems.\n"
     ]
    }
   ],
   "source": [
    "reg_dep_sdep = smf.ols(formula='dep ~ sdep',data=df).fit()\n",
    "print(reg_sdep_dep.summary())"
   ]
  },
  {
   "cell_type": "code",
   "execution_count": 126,
   "metadata": {},
   "outputs": [
    {
     "name": "stdout",
     "output_type": "stream",
     "text": [
      "                            OLS Regression Results                            \n",
      "==============================================================================\n",
      "Dep. Variable:               sdep_sum   R-squared:                       0.512\n",
      "Model:                            OLS   Adj. R-squared:                  0.511\n",
      "Method:                 Least Squares   F-statistic:                     335.6\n",
      "Date:                Wed, 04 Sep 2024   Prob (F-statistic):          5.98e-149\n",
      "Time:                        04:34:23   Log-Likelihood:                -589.83\n",
      "No. Observations:                 963   AIC:                             1188.\n",
      "Df Residuals:                     959   BIC:                             1207.\n",
      "Df Model:                           3                                         \n",
      "Covariance Type:            nonrobust                                         \n",
      "==============================================================================\n",
      "                 coef    std err          t      P>|t|      [0.025      0.975]\n",
      "------------------------------------------------------------------------------\n",
      "Intercept      3.3513      0.083     40.439      0.000       3.189       3.514\n",
      "lib            0.0198      0.004      4.454      0.000       0.011       0.029\n",
      "income      -4.16e-05   1.35e-06    -30.869      0.000   -4.42e-05    -3.9e-05\n",
      "POPDEN         0.0011      0.000      3.361      0.001       0.000       0.002\n",
      "==============================================================================\n",
      "Omnibus:                      101.044   Durbin-Watson:                   1.580\n",
      "Prob(Omnibus):                  0.000   Jarque-Bera (JB):              166.597\n",
      "Skew:                           0.714   Prob(JB):                     6.67e-37\n",
      "Kurtosis:                       4.454   Cond. No.                     3.43e+05\n",
      "==============================================================================\n",
      "\n",
      "Notes:\n",
      "[1] Standard Errors assume that the covariance matrix of the errors is correctly specified.\n",
      "[2] The condition number is large, 3.43e+05. This might indicate that there are\n",
      "strong multicollinearity or other numerical problems.\n"
     ]
    }
   ],
   "source": [
    "reg_sdep_sum_lib = smf.ols(formula='sdep_sum ~ lib + income + POPDEN',data=df).fit()\n",
    "\n",
    "# And this gives a big summary of the results:\n",
    "print(reg_sdep_sum_lib.summary())"
   ]
  },
  {
   "cell_type": "code",
   "execution_count": 41,
   "metadata": {},
   "outputs": [
    {
     "name": "stdout",
     "output_type": "stream",
     "text": [
      "                            OLS Regression Results                            \n",
      "==============================================================================\n",
      "Dep. Variable:               sdep_sin   R-squared:                       0.252\n",
      "Model:                            OLS   Adj. R-squared:                  0.249\n",
      "Method:                 Least Squares   F-statistic:                     98.33\n",
      "Date:                Tue, 03 Sep 2024   Prob (F-statistic):           7.17e-55\n",
      "Time:                        21:27:57   Log-Likelihood:                -2261.5\n",
      "No. Observations:                 881   AIC:                             4531.\n",
      "Df Residuals:                     877   BIC:                             4550.\n",
      "Df Model:                           3                                         \n",
      "Covariance Type:            nonrobust                                         \n",
      "==============================================================================\n",
      "                 coef    std err          t      P>|t|      [0.025      0.975]\n",
      "------------------------------------------------------------------------------\n",
      "Intercept      8.4770      0.369     22.989      0.000       7.753       9.201\n",
      "kidm           0.1888      0.042      4.523      0.000       0.107       0.271\n",
      "dep            0.0091      0.001     13.703      0.000       0.008       0.010\n",
      "POPDEN         0.0035      0.003      1.387      0.166      -0.001       0.008\n",
      "==============================================================================\n",
      "Omnibus:                       26.441   Durbin-Watson:                   2.010\n",
      "Prob(Omnibus):                  0.000   Jarque-Bera (JB):               35.634\n",
      "Skew:                           0.307   Prob(JB):                     1.83e-08\n",
      "Kurtosis:                       3.771   Cond. No.                     1.83e+03\n",
      "==============================================================================\n",
      "\n",
      "Notes:\n",
      "[1] Standard Errors assume that the covariance matrix of the errors is correctly specified.\n",
      "[2] The condition number is large, 1.83e+03. This might indicate that there are\n",
      "strong multicollinearity or other numerical problems.\n"
     ]
    }
   ],
   "source": [
    "reg_sdep_sin_kidm = smf.ols(formula='sdep_sin ~ kidm + dep + POPDEN',data=df).fit()\n",
    "\n",
    "# And this gives a big summary of the results:\n",
    "print(reg_sdep_sin_kidm.summary())"
   ]
  },
  {
   "cell_type": "code",
   "execution_count": 42,
   "metadata": {},
   "outputs": [
    {
     "name": "stdout",
     "output_type": "stream",
     "text": [
      "                            OLS Regression Results                            \n",
      "==============================================================================\n",
      "Dep. Variable:               sdep_sin   R-squared:                       0.251\n",
      "Model:                            OLS   Adj. R-squared:                  0.249\n",
      "Method:                 Least Squares   F-statistic:                     98.08\n",
      "Date:                Tue, 03 Sep 2024   Prob (F-statistic):           9.59e-55\n",
      "Time:                        21:28:18   Log-Likelihood:                -2261.8\n",
      "No. Observations:                 881   AIC:                             4532.\n",
      "Df Residuals:                     877   BIC:                             4551.\n",
      "Df Model:                           3                                         \n",
      "Covariance Type:            nonrobust                                         \n",
      "==============================================================================\n",
      "                 coef    std err          t      P>|t|      [0.025      0.975]\n",
      "------------------------------------------------------------------------------\n",
      "Intercept      8.7872      0.347     25.332      0.000       8.106       9.468\n",
      "frequencym     0.0161      0.004      4.457      0.000       0.009       0.023\n",
      "dep            0.0092      0.001     13.755      0.000       0.008       0.010\n",
      "POPDEN         0.0034      0.003      1.332      0.183      -0.002       0.008\n",
      "==============================================================================\n",
      "Omnibus:                       27.790   Durbin-Watson:                   1.994\n",
      "Prob(Omnibus):                  0.000   Jarque-Bera (JB):               37.964\n",
      "Skew:                           0.315   Prob(JB):                     5.70e-09\n",
      "Kurtosis:                       3.799   Cond. No.                     1.73e+03\n",
      "==============================================================================\n",
      "\n",
      "Notes:\n",
      "[1] Standard Errors assume that the covariance matrix of the errors is correctly specified.\n",
      "[2] The condition number is large, 1.73e+03. This might indicate that there are\n",
      "strong multicollinearity or other numerical problems.\n"
     ]
    }
   ],
   "source": [
    "reg_sdep_sin_frem = smf.ols(formula='sdep_sin ~ frequencym  + dep + POPDEN',data=df).fit()\n",
    "\n",
    "# And this gives a big summary of the results:\n",
    "print(reg_sdep_sin_frem.summary())"
   ]
  },
  {
   "cell_type": "code",
   "execution_count": 43,
   "metadata": {},
   "outputs": [
    {
     "name": "stdout",
     "output_type": "stream",
     "text": [
      "                            OLS Regression Results                            \n",
      "==============================================================================\n",
      "Dep. Variable:               sdep_sin   R-squared:                       0.257\n",
      "Model:                            OLS   Adj. R-squared:                  0.254\n",
      "Method:                 Least Squares   F-statistic:                     101.0\n",
      "Date:                Tue, 03 Sep 2024   Prob (F-statistic):           3.67e-56\n",
      "Time:                        21:28:25   Log-Likelihood:                -2258.5\n",
      "No. Observations:                 881   AIC:                             4525.\n",
      "Df Residuals:                     877   BIC:                             4544.\n",
      "Df Model:                           3                                         \n",
      "Covariance Type:            nonrobust                                         \n",
      "==============================================================================\n",
      "                 coef    std err          t      P>|t|      [0.025      0.975]\n",
      "------------------------------------------------------------------------------\n",
      "Intercept      9.2692      0.336     27.566      0.000       8.609       9.929\n",
      "frequencyk     0.0276      0.005      5.156      0.000       0.017       0.038\n",
      "dep            0.0091      0.001     13.706      0.000       0.008       0.010\n",
      "POPDEN         0.0037      0.002      1.486      0.138      -0.001       0.009\n",
      "==============================================================================\n",
      "Omnibus:                       19.459   Durbin-Watson:                   2.017\n",
      "Prob(Omnibus):                  0.000   Jarque-Bera (JB):               22.485\n",
      "Skew:                           0.292   Prob(JB):                     1.31e-05\n",
      "Kurtosis:                       3.521   Cond. No.                     1.67e+03\n",
      "==============================================================================\n",
      "\n",
      "Notes:\n",
      "[1] Standard Errors assume that the covariance matrix of the errors is correctly specified.\n",
      "[2] The condition number is large, 1.67e+03. This might indicate that there are\n",
      "strong multicollinearity or other numerical problems.\n"
     ]
    }
   ],
   "source": [
    "reg_sdep_sin_frek = smf.ols(formula='sdep_sin ~ frequencyk + dep + POPDEN',data=df).fit()\n",
    "\n",
    "# And this gives a big summary of the results:\n",
    "print(reg_sdep_sin_frek.summary())"
   ]
  },
  {
   "cell_type": "code",
   "execution_count": 45,
   "metadata": {},
   "outputs": [
    {
     "name": "stdout",
     "output_type": "stream",
     "text": [
      "                            OLS Regression Results                            \n",
      "==============================================================================\n",
      "Dep. Variable:               sdep_sin   R-squared:                       0.259\n",
      "Model:                            OLS   Adj. R-squared:                  0.257\n",
      "Method:                 Least Squares   F-statistic:                     102.2\n",
      "Date:                Tue, 03 Sep 2024   Prob (F-statistic):           9.69e-57\n",
      "Time:                        21:28:57   Log-Likelihood:                -2257.2\n",
      "No. Observations:                 881   AIC:                             4522.\n",
      "Df Residuals:                     877   BIC:                             4541.\n",
      "Df Model:                           3                                         \n",
      "Covariance Type:            nonrobust                                         \n",
      "==============================================================================\n",
      "                 coef    std err          t      P>|t|      [0.025      0.975]\n",
      "------------------------------------------------------------------------------\n",
      "Intercept      8.9058      0.338     26.331      0.000       8.242       9.570\n",
      "frequency      0.0132      0.002      5.417      0.000       0.008       0.018\n",
      "dep            0.0091      0.001     13.655      0.000       0.008       0.010\n",
      "POPDEN         0.0023      0.003      0.893      0.372      -0.003       0.007\n",
      "==============================================================================\n",
      "Omnibus:                       23.303   Durbin-Watson:                   2.009\n",
      "Prob(Omnibus):                  0.000   Jarque-Bera (JB):               29.194\n",
      "Skew:                           0.302   Prob(JB):                     4.58e-07\n",
      "Kurtosis:                       3.656   Cond. No.                     1.70e+03\n",
      "==============================================================================\n",
      "\n",
      "Notes:\n",
      "[1] Standard Errors assume that the covariance matrix of the errors is correctly specified.\n",
      "[2] The condition number is large, 1.7e+03. This might indicate that there are\n",
      "strong multicollinearity or other numerical problems.\n"
     ]
    }
   ],
   "source": [
    "reg_sdep_sin_fre = smf.ols(formula='sdep_sin ~ frequency + dep + POPDEN',data=df).fit()\n",
    "\n",
    "# And this gives a big summary of the results:\n",
    "print(reg_sdep_sin_fre.summary())"
   ]
  },
  {
   "cell_type": "code",
   "execution_count": 69,
   "metadata": {},
   "outputs": [
    {
     "name": "stdout",
     "output_type": "stream",
     "text": [
      "                            OLS Regression Results                            \n",
      "==============================================================================\n",
      "Dep. Variable:               sdep_sum   R-squared:                       0.446\n",
      "Model:                            OLS   Adj. R-squared:                  0.445\n",
      "Method:                 Least Squares   F-statistic:                     235.7\n",
      "Date:                Tue, 03 Sep 2024   Prob (F-statistic):          3.91e-112\n",
      "Time:                        22:03:43   Log-Likelihood:                -594.48\n",
      "No. Observations:                 881   AIC:                             1197.\n",
      "Df Residuals:                     877   BIC:                             1216.\n",
      "Df Model:                           3                                         \n",
      "Covariance Type:            nonrobust                                         \n",
      "==============================================================================\n",
      "                 coef    std err          t      P>|t|      [0.025      0.975]\n",
      "------------------------------------------------------------------------------\n",
      "Intercept      0.1028      0.052      1.967      0.049       0.000       0.205\n",
      "frequencym    -0.0009      0.001     -1.603      0.109      -0.002       0.000\n",
      "dep            0.0026      0.000     26.332      0.000       0.002       0.003\n",
      "POPDEN        -0.0018      0.000     -4.666      0.000      -0.003      -0.001\n",
      "==============================================================================\n",
      "Omnibus:                      153.199   Durbin-Watson:                   1.719\n",
      "Prob(Omnibus):                  0.000   Jarque-Bera (JB):              327.729\n",
      "Skew:                           0.975   Prob(JB):                     6.83e-72\n",
      "Kurtosis:                       5.264   Cond. No.                     1.73e+03\n",
      "==============================================================================\n",
      "\n",
      "Notes:\n",
      "[1] Standard Errors assume that the covariance matrix of the errors is correctly specified.\n",
      "[2] The condition number is large, 1.73e+03. This might indicate that there are\n",
      "strong multicollinearity or other numerical problems.\n"
     ]
    }
   ],
   "source": [
    "reg_sdep_sum_frem = smf.ols(formula='sdep_sum ~ frequencym +  dep + POPDEN',data=df).fit()\n",
    "\n",
    "# And this gives a big summary of the results:\n",
    "print(reg_sdep_sum_frem.summary())"
   ]
  },
  {
   "cell_type": "code",
   "execution_count": 70,
   "metadata": {},
   "outputs": [
    {
     "name": "stdout",
     "output_type": "stream",
     "text": [
      "                            OLS Regression Results                            \n",
      "==============================================================================\n",
      "Dep. Variable:               sdep_sum   R-squared:                       0.448\n",
      "Model:                            OLS   Adj. R-squared:                  0.446\n",
      "Method:                 Least Squares   F-statistic:                     237.2\n",
      "Date:                Tue, 03 Sep 2024   Prob (F-statistic):          1.15e-112\n",
      "Time:                        22:04:47   Log-Likelihood:                -593.25\n",
      "No. Observations:                 881   AIC:                             1194.\n",
      "Df Residuals:                     877   BIC:                             1214.\n",
      "Df Model:                           3                                         \n",
      "Covariance Type:            nonrobust                                         \n",
      "==============================================================================\n",
      "                 coef    std err          t      P>|t|      [0.025      0.975]\n",
      "------------------------------------------------------------------------------\n",
      "Intercept      0.0754      0.051      1.485      0.138      -0.024       0.175\n",
      "frequencyk    -0.0018      0.001     -2.244      0.025      -0.003      -0.000\n",
      "dep            0.0026      0.000     26.421      0.000       0.002       0.003\n",
      "POPDEN        -0.0018      0.000     -4.708      0.000      -0.002      -0.001\n",
      "==============================================================================\n",
      "Omnibus:                      151.264   Durbin-Watson:                   1.728\n",
      "Prob(Omnibus):                  0.000   Jarque-Bera (JB):              321.057\n",
      "Skew:                           0.967   Prob(JB):                     1.92e-70\n",
      "Kurtosis:                       5.238   Cond. No.                     1.67e+03\n",
      "==============================================================================\n",
      "\n",
      "Notes:\n",
      "[1] Standard Errors assume that the covariance matrix of the errors is correctly specified.\n",
      "[2] The condition number is large, 1.67e+03. This might indicate that there are\n",
      "strong multicollinearity or other numerical problems.\n"
     ]
    }
   ],
   "source": [
    "reg_sdep_sum_frek = smf.ols(formula='sdep_sum ~ frequencyk +  dep + POPDEN',data=df).fit()\n",
    "\n",
    "# And this gives a big summary of the results:\n",
    "print(reg_sdep_sum_frek.summary())"
   ]
  },
  {
   "cell_type": "code",
   "execution_count": 65,
   "metadata": {},
   "outputs": [
    {
     "name": "stdout",
     "output_type": "stream",
     "text": [
      "                            OLS Regression Results                            \n",
      "==============================================================================\n",
      "Dep. Variable:               sdep_sum   R-squared:                       0.456\n",
      "Model:                            OLS   Adj. R-squared:                  0.455\n",
      "Method:                 Least Squares   F-statistic:                     245.5\n",
      "Date:                Tue, 03 Sep 2024   Prob (F-statistic):          1.27e-115\n",
      "Time:                        22:00:57   Log-Likelihood:                -586.40\n",
      "No. Observations:                 881   AIC:                             1181.\n",
      "Df Residuals:                     877   BIC:                             1200.\n",
      "Df Model:                           3                                         \n",
      "Covariance Type:            nonrobust                                         \n",
      "==============================================================================\n",
      "                 coef    std err          t      P>|t|      [0.025      0.975]\n",
      "------------------------------------------------------------------------------\n",
      "Intercept      0.1803      0.055      3.273      0.001       0.072       0.288\n",
      "kidm          -0.0271      0.006     -4.341      0.000      -0.039      -0.015\n",
      "dep            0.0027   9.95e-05     26.814      0.000       0.002       0.003\n",
      "POPDEN        -0.0014      0.000     -3.810      0.000      -0.002      -0.001\n",
      "==============================================================================\n",
      "Omnibus:                      142.342   Durbin-Watson:                   1.720\n",
      "Prob(Omnibus):                  0.000   Jarque-Bera (JB):              294.513\n",
      "Skew:                           0.925   Prob(JB):                     1.11e-64\n",
      "Kurtosis:                       5.146   Cond. No.                     1.83e+03\n",
      "==============================================================================\n",
      "\n",
      "Notes:\n",
      "[1] Standard Errors assume that the covariance matrix of the errors is correctly specified.\n",
      "[2] The condition number is large, 1.83e+03. This might indicate that there are\n",
      "strong multicollinearity or other numerical problems.\n"
     ]
    }
   ],
   "source": [
    "reg_sdep_sum_kidm = smf.ols(formula='sdep_sum ~ kidm + dep + POPDEN ',data=df).fit()\n",
    "\n",
    "# And this gives a big summary of the results:\n",
    "print(reg_sdep_sum_kidm.summary())"
   ]
  },
  {
   "cell_type": "code",
   "execution_count": 64,
   "metadata": {},
   "outputs": [
    {
     "name": "stdout",
     "output_type": "stream",
     "text": [
      "                            OLS Regression Results                            \n",
      "==============================================================================\n",
      "Dep. Variable:               sdep_sum   R-squared:                       0.448\n",
      "Model:                            OLS   Adj. R-squared:                  0.446\n",
      "Method:                 Least Squares   F-statistic:                     236.9\n",
      "Date:                Tue, 03 Sep 2024   Prob (F-statistic):          1.50e-112\n",
      "Time:                        22:00:54   Log-Likelihood:                -593.52\n",
      "No. Observations:                 881   AIC:                             1195.\n",
      "Df Residuals:                     877   BIC:                             1214.\n",
      "Df Model:                           3                                         \n",
      "Covariance Type:            nonrobust                                         \n",
      "==============================================================================\n",
      "                 coef    std err          t      P>|t|      [0.025      0.975]\n",
      "------------------------------------------------------------------------------\n",
      "Intercept      0.0977      0.051      1.908      0.057      -0.003       0.198\n",
      "frequency     -0.0008      0.000     -2.120      0.034      -0.002   -5.82e-05\n",
      "dep            0.0026      0.000     26.399      0.000       0.002       0.003\n",
      "POPDEN        -0.0017      0.000     -4.415      0.000      -0.002      -0.001\n",
      "==============================================================================\n",
      "Omnibus:                      151.506   Durbin-Watson:                   1.724\n",
      "Prob(Omnibus):                  0.000   Jarque-Bera (JB):              323.114\n",
      "Skew:                           0.966   Prob(JB):                     6.87e-71\n",
      "Kurtosis:                       5.251   Cond. No.                     1.70e+03\n",
      "==============================================================================\n",
      "\n",
      "Notes:\n",
      "[1] Standard Errors assume that the covariance matrix of the errors is correctly specified.\n",
      "[2] The condition number is large, 1.7e+03. This might indicate that there are\n",
      "strong multicollinearity or other numerical problems.\n"
     ]
    }
   ],
   "source": [
    "reg_sdep_sum_fre = smf.ols(formula='sdep_sum ~ frequency + dep + POPDEN ',data=df).fit()\n",
    "\n",
    "# And this gives a big summary of the results:\n",
    "print(reg_sdep_sum_fre.summary())"
   ]
  },
  {
   "cell_type": "code",
   "execution_count": 50,
   "metadata": {},
   "outputs": [
    {
     "name": "stdout",
     "output_type": "stream",
     "text": [
      "                            OLS Regression Results                            \n",
      "==============================================================================\n",
      "Dep. Variable:             frequencyk   R-squared:                       0.357\n",
      "Model:                            OLS   Adj. R-squared:                  0.357\n",
      "Method:                 Least Squares   F-statistic:                     564.5\n",
      "Date:                Tue, 03 Sep 2024   Prob (F-statistic):           1.38e-99\n",
      "Time:                        21:46:36   Log-Likelihood:                -4300.7\n",
      "No. Observations:                1018   AIC:                             8605.\n",
      "Df Residuals:                    1016   BIC:                             8615.\n",
      "Df Model:                           1                                         \n",
      "Covariance Type:            nonrobust                                         \n",
      "==============================================================================\n",
      "                 coef    std err          t      P>|t|      [0.025      0.975]\n",
      "------------------------------------------------------------------------------\n",
      "Intercept     -5.9925      0.929     -6.453      0.000      -7.815      -4.170\n",
      "frequencym     0.3667      0.015     23.758      0.000       0.336       0.397\n",
      "==============================================================================\n",
      "Omnibus:                      353.520   Durbin-Watson:                   0.719\n",
      "Prob(Omnibus):                  0.000   Jarque-Bera (JB):             1584.490\n",
      "Skew:                           1.571   Prob(JB):                         0.00\n",
      "Kurtosis:                       8.243   Cond. No.                         108.\n",
      "==============================================================================\n",
      "\n",
      "Notes:\n",
      "[1] Standard Errors assume that the covariance matrix of the errors is correctly specified.\n"
     ]
    }
   ],
   "source": [
    "reg_frem_frek = smf.ols(formula='frequencyk ~ frequencym',data=df).fit()\n",
    "\n",
    "# And this gives a big summary of the results:\n",
    "print(reg_frem_frek.summary())"
   ]
  },
  {
   "cell_type": "code",
   "execution_count": null,
   "metadata": {},
   "outputs": [
    {
     "name": "stdout",
     "output_type": "stream",
     "text": [
      "                            OLS Regression Results                            \n",
      "==============================================================================\n",
      "Dep. Variable:                    dep   R-squared:                       0.055\n",
      "Model:                            OLS   Adj. R-squared:                  0.054\n",
      "Method:                 Least Squares   F-statistic:                     52.73\n",
      "Date:                Sat, 31 Aug 2024   Prob (F-statistic):           8.17e-13\n",
      "Time:                        01:21:15   Log-Likelihood:                -5975.7\n",
      "No. Observations:                 916   AIC:                         1.196e+04\n",
      "Df Residuals:                     914   BIC:                         1.197e+04\n",
      "Df Model:                           1                                         \n",
      "Covariance Type:            nonrobust                                         \n",
      "==============================================================================\n",
      "                 coef    std err          t      P>|t|      [0.025      0.975]\n",
      "------------------------------------------------------------------------------\n",
      "Intercept    437.4567      8.936     48.953      0.000     419.919     454.995\n",
      "frequency      0.8111      0.112      7.262      0.000       0.592       1.030\n",
      "==============================================================================\n",
      "Omnibus:                       69.605   Durbin-Watson:                   1.490\n",
      "Prob(Omnibus):                  0.000   Jarque-Bera (JB):               99.099\n",
      "Skew:                           0.601   Prob(JB):                     3.03e-22\n",
      "Kurtosis:                       4.073   Cond. No.                         131.\n",
      "==============================================================================\n",
      "\n",
      "Notes:\n",
      "[1] Standard Errors assume that the covariance matrix of the errors is correctly specified.\n"
     ]
    }
   ],
   "source": [
    "reg_dep_fre = smf.ols(formula='dep ~ frequency',data=df).fit()\n",
    "\n",
    "# And this gives a big summary of the results:\n",
    "print(reg_dep_fre.summary())"
   ]
  },
  {
   "cell_type": "markdown",
   "metadata": {},
   "source": [
    "Note that the **reg_wb_green** model contains a lot of information of the regression models (see [here](https://www.statsmodels.org/dev/generated/statsmodels.regression.linear_model.RegressionResults.html#statsmodels.regression.linear_model.RegressionResults) for a full list), including:\n",
    "\n",
    "- params: the coefficients of intercept and gradients (or slopes)\n",
    "- rsqured\n",
    "- pvalues\n",
    "- fittedvalues: the fitted y values\n",
    "- resid: residuals\n"
   ]
  },
  {
   "cell_type": "code",
   "execution_count": 34,
   "metadata": {},
   "outputs": [
    {
     "name": "stdout",
     "output_type": "stream",
     "text": [
      "y = 0.503 x + 13.705\n",
      "R^2 =  0.002383307235748089\n",
      "p-value of library =  0.39712\n",
      "p-value of intercept =  0.0\n"
     ]
    }
   ],
   "source": [
    "# Pick out some values of interest and print the regression equation: y=mx+c or y=beta_1*x + beta_0\n",
    "\n",
    "# The order of results: intercept term, slope term\n",
    "beta_0, beta_1 = reg_dep_lib.params\n",
    "rsq    = reg_dep_lib.rsquared\n",
    "pval_0, pval_1 = reg_dep_lib.pvalues\n",
    "\n",
    "print(\"y =\", round(beta_1,3), \"x +\", round(beta_0,3))\n",
    "print(\"R^2 = \", rsq)\n",
    "print(\"p-value of library = \", round(pval_1,5))\n",
    "print(\"p-value of intercept = \", round(pval_0,5))"
   ]
  },
  {
   "cell_type": "code",
   "execution_count": 43,
   "metadata": {},
   "outputs": [
    {
     "name": "stdout",
     "output_type": "stream",
     "text": [
      "y = -0.174 x + 14.429\n",
      "R^2 =  0.00036315973558276315\n",
      "p-value of kid =  0.74111\n",
      "p-value of intercept =  0.0\n"
     ]
    }
   ],
   "source": [
    "beta_0, beta_1 = reg_dep_kid.params\n",
    "rsq    = reg_dep_kid.rsquared\n",
    "pval_0, pval_1 = reg_dep_kid.pvalues\n",
    "\n",
    "print(\"y =\", round(beta_1,3), \"x +\", round(beta_0,3))\n",
    "print(\"R^2 = \", rsq)\n",
    "print(\"p-value of kid = \", round(pval_1,5))\n",
    "print(\"p-value of intercept = \", round(pval_0,5))"
   ]
  },
  {
   "cell_type": "code",
   "execution_count": 44,
   "metadata": {},
   "outputs": [
    {
     "name": "stdout",
     "output_type": "stream",
     "text": [
      "y = 0.013 x + 14.131\n",
      "R^2 =  0.0010973537530025723\n",
      "p-value of frequency =  0.5657\n",
      "p-value of intercept =  0.0\n"
     ]
    }
   ],
   "source": [
    "beta_0, beta_1 = reg_dep_fre.params\n",
    "rsq    = reg_dep_fre.rsquared\n",
    "pval_0, pval_1 = reg_dep_fre.pvalues\n",
    "\n",
    "print(\"y =\", round(beta_1,3), \"x +\", round(beta_0,3))\n",
    "print(\"R^2 = \", rsq)\n",
    "print(\"p-value of frequency = \", round(pval_1,5))\n",
    "print(\"p-value of intercept = \", round(pval_0,5))"
   ]
  },
  {
   "cell_type": "code",
   "execution_count": 45,
   "metadata": {},
   "outputs": [
    {
     "name": "stdout",
     "output_type": "stream",
     "text": [
      "y = -0.001 x + 14.874\n",
      "R^2 =  0.005238485327720643\n",
      "p-value of distance =  0.03171\n",
      "p-value of intercept =  0.0\n"
     ]
    }
   ],
   "source": [
    "beta_0, beta_1 = reg_dep_dis.params\n",
    "rsq    = reg_dep_dis.rsquared\n",
    "pval_0, pval_1 = reg_dep_dis.pvalues\n",
    "\n",
    "print(\"y =\", round(beta_1,3), \"x +\", round(beta_0,3))\n",
    "print(\"R^2 = \", rsq)\n",
    "print(\"p-value of distance = \", round(pval_1,5))\n",
    "print(\"p-value of intercept = \", round(pval_0,5))"
   ]
  },
  {
   "cell_type": "markdown",
   "metadata": {},
   "source": [
    "# plot the result"
   ]
  },
  {
   "cell_type": "code",
   "execution_count": 36,
   "metadata": {},
   "outputs": [
    {
     "name": "stdout",
     "output_type": "stream",
     "text": [
      "y = 0.503 x + 13.705\n",
      "Rsq =  0.002383307235748089\n",
      "p-value of library =  0.3971166100338186\n"
     ]
    },
    {
     "data": {
      "image/png": "[encoded data removed]",
      "text/plain": [
       "<Figure size 800x800 with 1 Axes>"
      ]
     },
     "metadata": {},
     "output_type": "display_data"
    }
   ],
   "source": [
    "\n",
    "fig, ax = plt.subplots()\n",
    "df_office.plot(kind='scatter', x='library', y='deprivation', figsize=(8, 8), ax = ax)\n",
    "\n",
    "X=df_office.library\n",
    "b = plt.plot(X, X*beta_1 + beta_0, 'r') # Plot the regression line.\n",
    "\n",
    "print(\"y =\", round(beta_1,3), \"x +\", round(beta_0,3))\n",
    "print(\"Rsq = \", rsq)\n",
    "print(\"p-value of library = \", pval_1)"
   ]
  },
  {
   "cell_type": "code",
   "execution_count": 46,
   "metadata": {},
   "outputs": [
    {
     "name": "stdout",
     "output_type": "stream",
     "text": [
      "y = -0.001 x + 14.874\n",
      "Rsq =  0.005238485327720643\n",
      "p-value of kid =  0.031709996343363994\n"
     ]
    },
    {
     "data": {
      "image/png": "[encoded data removed]",
      "text/plain": [
       "<Figure size 800x800 with 1 Axes>"
      ]
     },
     "metadata": {},
     "output_type": "display_data"
    }
   ],
   "source": [
    "fig, ax = plt.subplots()\n",
    "df_office.plot(kind='scatter', x='kid', y='deprivation', figsize=(8, 8), ax = ax)\n",
    "\n",
    "X=df_office.kid\n",
    "b = plt.plot(X, X*beta_1 + beta_0, 'r') # Plot the regression line.\n",
    "\n",
    "print(\"y =\", round(beta_1,3), \"x +\", round(beta_0,3))\n",
    "print(\"Rsq = \", rsq)\n",
    "print(\"p-value of kid = \", pval_1)"
   ]
  },
  {
   "cell_type": "code",
   "execution_count": 47,
   "metadata": {},
   "outputs": [
    {
     "name": "stdout",
     "output_type": "stream",
     "text": [
      "y = -0.001 x + 14.874\n",
      "Rsq =  0.005238485327720643\n",
      "p-value of frequency =  0.031709996343363994\n"
     ]
    },
    {
     "data": {
      "image/png": "[encoded data removed]",
      "text/plain": [
       "<Figure size 800x800 with 1 Axes>"
      ]
     },
     "metadata": {},
     "output_type": "display_data"
    }
   ],
   "source": [
    "fig, ax = plt.subplots()\n",
    "df_office.plot(kind='scatter', x='frequency', y='deprivation', figsize=(8, 8), ax = ax)\n",
    "\n",
    "X=df_office.frequency\n",
    "b = plt.plot(X, X*beta_1 + beta_0, 'r') # Plot the regression line.\n",
    "\n",
    "print(\"y =\", round(beta_1,3), \"x +\", round(beta_0,3))\n",
    "print(\"Rsq = \", rsq)\n",
    "print(\"p-value of frequency = \", pval_1)"
   ]
  },
  {
   "cell_type": "code",
   "execution_count": 48,
   "metadata": {},
   "outputs": [
    {
     "name": "stdout",
     "output_type": "stream",
     "text": [
      "y = -0.001 x + 14.874\n",
      "Rsq =  0.005238485327720643\n",
      "p-value of distance =  0.031709996343363994\n"
     ]
    },
    {
     "data": {
      "image/png": "[encoded data removed]",
      "text/plain": [
       "<Figure size 800x800 with 1 Axes>"
      ]
     },
     "metadata": {},
     "output_type": "display_data"
    }
   ],
   "source": [
    "fig, ax = plt.subplots()\n",
    "df_office.plot(kind='scatter', x='distance', y='deprivation', figsize=(8, 8), ax = ax)\n",
    "\n",
    "X=df_office.distance\n",
    "b = plt.plot(X, X*beta_1 + beta_0, 'r') # Plot the regression line.\n",
    "\n",
    "print(\"y =\", round(beta_1,3), \"x +\", round(beta_0,3))\n",
    "print(\"Rsq = \", rsq)\n",
    "print(\"p-value of distance = \", pval_1)"
   ]
  },
  {
   "cell_type": "markdown",
   "metadata": {},
   "source": [
    "### Interpreting Model Coefficients\n"
   ]
  },
  {
   "cell_type": "markdown",
   "metadata": {},
   "source": [
    "### How Well Does the Model Fit the data?\n",
    "\n",
    "The most common way to evaluate the overall fitness of a linear model is by the R-squared value. \n",
    "\n",
    "R-squared is the proportion of variance explained, meaning the proportion of variance in the observed data that is explained by the model, or the reduction in error over the null model. (The null model just predicts the mean of the observed response, and thus it has an intercept and no slope.)\n",
    "\n",
    "R-squared is between 0 and 1, and higher is better because it means that more variance is explained by the model.\n"
   ]
  },
  {
   "cell_type": "code",
   "execution_count": 23,
   "metadata": {},
   "outputs": [
    {
     "data": {
      "text/plain": [
       "0.34523516578160884"
      ]
     },
     "execution_count": 23,
     "metadata": {},
     "output_type": "execute_result"
    }
   ],
   "source": [
    "# what is the R squared value for the model？You can find the answer from the code above.\n",
    "\n",
    "reg_wb_green.rsquared"
   ]
  },
  {
   "cell_type": "markdown",
   "metadata": {},
   "source": [
    "Is that a \"good\" R-squared value? It's hard to say. The threshold for a good R-squared value depends widely on the domain. \n",
    "\n",
    "Therefore, it's most useful as a tool for comparing different models."
   ]
  },
  {
   "cell_type": "markdown",
   "metadata": {},
   "source": [
    "### The LINE conditions of linear regression"
   ]
  },
  {
   "cell_type": "markdown",
   "metadata": {},
   "source": [
    "Now, we can conduct residual analysis and test the following **LINE** conditions using **Residual vs. Fitted plot**:\n",
    "\n",
    "- Linear relationship\n",
    "- Independent errors\n",
    "- Normally distributed errors\n",
    "- Equal variance for all x values"
   ]
  },
  {
   "cell_type": "code",
   "execution_count": 37,
   "metadata": {},
   "outputs": [
    {
     "data": {
      "image/png": "[encoded data removed]",
      "text/plain": [
       "<Figure size 640x480 with 1 Axes>"
      ]
     },
     "metadata": {},
     "output_type": "display_data"
    }
   ],
   "source": [
    "# plot \n",
    "plt.scatter(reg_dep_lib.fittedvalues, reg_dep_lib.resid)\n",
    "# adding title and labels\n",
    "plt.xlabel('Fitted deprivation')\n",
    "plt.ylabel('Residual')\n",
    "plt.title('Residual vs. Fitted Plot ')\n",
    "plt.show()"
   ]
  },
  {
   "cell_type": "markdown",
   "metadata": {},
   "source": [
    "Now, we can discuss the LINE conditions and outliers:\n",
    "\n",
    "- Linear relationship between x and y? Roughly yes (from the scatterplot of x and y, see above), but not obvious.\n",
    "- Independent errors? To some extent. (see below for Durbin-Watson test statistic)\n",
    "- Normally distributed residuals? This is likely true, as there are more points closer to residual of 0. (see below for Jarque-Bera test)\n",
    "- Equal variance for all fitted y values? This is likely true.\n",
    "\n",
    "- Outliers? No."
   ]
  },
  {
   "cell_type": "markdown",
   "metadata": {},
   "source": [
    "### Hypothesis testing of the LINE conditions"
   ]
  },
  {
   "cell_type": "markdown",
   "metadata": {},
   "source": [
    "This part is optional - and we will know more about these hypothesis tests in the later lecture of \"Hypothesis Testing\"."
   ]
  },
  {
   "cell_type": "code",
   "execution_count": 87,
   "metadata": {},
   "outputs": [
    {
     "data": {
      "text/plain": [
       "2.123422462323803"
      ]
     },
     "execution_count": 87,
     "metadata": {},
     "output_type": "execute_result"
    }
   ],
   "source": [
    "# The Durbin-Watson test statistic is to test the correlation of the residuals - are they independent?\n",
    "# The null hypothesis of the test is that there is no serial correlation in the residuals\n",
    "# The test statistic is approximately equal to 2*(1-r) where r is the sample autocorrelation of the residuals. \n",
    "# Thus, for r == 0, indicating no serial correlation, the test statistic equals 2. This statistic will always be between 0 and 4. \n",
    "# The closer to 0 the statistic, the more evidence for positive serial correlation. The closer to 4, the more evidence for negative serial correlation.\n",
    "\n",
    "statsmodels.stats.stattools.durbin_watson(reg_wb_green.resid)\n"
   ]
  },
  {
   "cell_type": "markdown",
   "metadata": {},
   "source": [
    "The [Durbin-Watson test](https://www.statsmodels.org/stable/generated/statsmodels.stats.stattools.durbin_watson.html#statsmodels.stats.stattools.durbin_watson) result above shows that the serial correlation between the residuals are unlikely."
   ]
  },
  {
   "cell_type": "code",
   "execution_count": 88,
   "metadata": {},
   "outputs": [
    {
     "data": {
      "text/plain": [
       "(0.8263757642404426,\n",
       " 0.6615379799927861,\n",
       " -0.18066990922142118,\n",
       " 2.739685346118587)"
      ]
     },
     "execution_count": 88,
     "metadata": {},
     "output_type": "execute_result"
    }
   ],
   "source": [
    "# The Jarque-Bera test statistic (JB) tests the null that the data is normally distributed against an alternative that the data follow some other distribution. \n",
    "# The test statistic is based on two moments of the data, the skewness, and the kurtosis, and has an asymptotic chi-squared distribution.\n",
    "# The test statistic of the JB test is always a positive number. If it's far from zero, it indicates that the sample data do not have a normal distribution.\n",
    "\n",
    "statsmodels.stats.stattools.jarque_bera(reg_wb_green.resid)"
   ]
  },
  {
   "cell_type": "markdown",
   "metadata": {},
   "source": [
    "The Jarque-Bera test above returns four values. The first two values are the JB test statistic and the p-value of the test statistic.\n",
    "\n",
    "As the JB test statistic is quite close to 0 and the p value is greater than 0.05 (the common threshold of p value), it indicates that the residuals of this model are likely to follow a normal distribution.\n",
    "\n",
    "More details can be found [here](https://www.statsmodels.org/stable/generated/statsmodels.stats.stattools.jarque_bera.html#statsmodels.stats.stattools.jarque_bera)."
   ]
  },
  {
   "cell_type": "markdown",
   "metadata": {},
   "source": [
    "## Part 4:\n",
    "\n",
    "We have provided a few additional datasets on Moodle.\n",
    "\n",
    "Can you use the above code to investigate one or more additional datasets and interpret the results?\n",
    "\n",
    "[This notebook](https://raw.githubusercontent.com/huanfachen/QM_2021/main/practicals/Practical_03_regression_ad_data.ipynb) provides another example of using regression to investigating a dataset relating to advertisement."
   ]
  },
  {
   "cell_type": "markdown",
   "metadata": {},
   "source": [
    "## Credits\n",
    "### Contributors:\n",
    "The following individuals have contributed to these teaching materials: [Huanfa Chen](huanfa.chen@ucl.ac.uk)\n",
    "\n",
    "### License\n",
    "These teaching materials are licensed under a mix of The MIT License and the Creative Commons Attribution-NonCommercial-ShareAlike 4.0 license.\n",
    "\n",
    "### Acknowledgements\n",
    "This notebook is adjusted from [this linear regression tutorial](https://github.com/justmarkham/DAT4/blob/master/notebooks/08_linear_regression.ipynb).\n",
    "\n",
    "### Dependencies\n",
    "This notebook depends on the following libraries: pandas, matplotlib, statsmodels"
   ]
  }
 ],
 "metadata": {
  "kernelspec": {
   "display_name": "Python 3 (ipykernel)",
   "language": "python",
   "name": "python3"
  },
  "language_info": {
   "codemirror_mode": {
    "name": "ipython",
    "version": 3
   },
   "file_extension": ".py",
   "mimetype": "text/x-python",
   "name": "python",
   "nbconvert_exporter": "python",
   "pygments_lexer": "ipython3",
   "version": "3.9.6"
  },
  "vscode": {
   "interpreter": {
    "hash": "d4d1e4263499bec80672ea0156c357c1ee493ec2b1c70f0acce89fc37c4a6abe"
   }
  }
 },
 "nbformat": 4,
 "nbformat_minor": 4
}
